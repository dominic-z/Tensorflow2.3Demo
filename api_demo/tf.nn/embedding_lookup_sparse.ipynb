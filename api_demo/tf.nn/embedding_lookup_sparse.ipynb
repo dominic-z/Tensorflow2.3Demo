{
 "cells": [
  {
   "cell_type": "code",
   "execution_count": 3,
   "metadata": {
    "collapsed": true
   },
   "outputs": [
    {
     "name": "stdout",
     "output_type": "stream",
     "text": [
      "tf.Tensor(\n",
      "[[ 0.8635217   1.6986538  -0.7250104  -1.2296655 ]\n",
      " [ 1.2955146  -0.23318473 -1.1222814  -0.81240666]\n",
      " [ 0.5230169  -0.02516606  0.04653292  0.99231285]], shape=(3, 4), dtype=float32)\n"
     ]
    },
    {
     "data": {
      "text/plain": "<tf.Tensor: shape=(3, 4), dtype=float32, numpy=\narray([[ 0.90926576, -0.1291754 , -0.5378743 ,  0.08995309],\n       [ 0.8635217 ,  1.6986538 , -0.7250104 , -1.2296655 ],\n       [ 0.8635217 ,  1.6986538 , -0.7250104 , -1.2296655 ]],\n      dtype=float32)>"
     },
     "execution_count": 3,
     "metadata": {},
     "output_type": "execute_result"
    }
   ],
   "source": [
    "#embedding_lookup_sparse\n",
    "\n",
    "import tensorflow as tf\n",
    "\n",
    "embedding_param=tf.random.truncated_normal(shape=(3,4))\n",
    "\n",
    "sparse_tensor=tf.sparse.SparseTensor(indices=[[0, 0],[0,1], [1, 2],[2,1]], values=[1,2,0,0], dense_shape=[3, 4])\n",
    "print(embedding_param)\n",
    "tf.nn.embedding_lookup_sparse(params=embedding_param,sp_ids=sparse_tensor,sp_weights=None)\n"
   ]
  },
  {
   "cell_type": "code",
   "execution_count": 2,
   "outputs": [
    {
     "data": {
      "text/plain": "<tf.Tensor: shape=(3, 4), dtype=float32, numpy=\narray([[-0.28369153,  0.22111179,  1.905132  ,  0.16127738],\n       [-0.6138425 ,  0.40119487,  0.15611733, -0.25702414],\n       [ 1.3703052 , -0.33670297,  0.2873767 , -0.76371247]],\n      dtype=float32)>"
     },
     "execution_count": 2,
     "metadata": {},
     "output_type": "execute_result"
    }
   ],
   "source": [
    "embedding_param"
   ],
   "metadata": {
    "collapsed": false,
    "pycharm": {
     "name": "#%%\n"
    }
   }
  },
  {
   "cell_type": "code",
   "execution_count": 5,
   "outputs": [
    {
     "name": "stdout",
     "output_type": "stream",
     "text": [
      "tf.Tensor(\n",
      "[[ 1.4632641   0.38111594 -1.0705905  -0.6842591 ]\n",
      " [ 0.91204876  0.8336627   0.5382726   0.79232466]\n",
      " [-1.5374717   1.0129488  -0.27162835 -0.22637124]], shape=(3, 4), dtype=float32)\n"
     ]
    },
    {
     "data": {
      "text/plain": "<tf.Tensor: shape=(11, 4), dtype=float32, numpy=\narray([[-0.31271145,  0.92330575,  0.13332213,  0.28297672],\n       [ 1.4632641 ,  0.38111594, -1.0705905 , -0.6842591 ],\n       [ 0.        ,  0.        ,  0.        ,  0.        ],\n       [ 0.        ,  0.        ,  0.        ,  0.        ],\n       [ 0.        ,  0.        ,  0.        ,  0.        ],\n       [ 0.        ,  0.        ,  0.        ,  0.        ],\n       [ 0.        ,  0.        ,  0.        ,  0.        ],\n       [ 0.        ,  0.        ,  0.        ,  0.        ],\n       [ 0.        ,  0.        ,  0.        ,  0.        ],\n       [ 0.        ,  0.        ,  0.        ,  0.        ],\n       [ 1.4632641 ,  0.38111594, -1.0705905 , -0.6842591 ]],\n      dtype=float32)>"
     },
     "execution_count": 5,
     "metadata": {},
     "output_type": "execute_result"
    }
   ],
   "source": [
    "import tensorflow as tf\n",
    "\n",
    "embedding_param=tf.random.truncated_normal(shape=(3,4))\n",
    "# 实际上这个sparse_tensor是不合法的，但embedding_lookup_sparse并没有校验合法性\n",
    "sparse_tensor=tf.sparse.SparseTensor(indices=[[0, 0],[0,1], [1, 2],[10,1]], values=[1,2,0,0], dense_shape=[3, 4])\n",
    "print(embedding_param)\n",
    "tf.nn.embedding_lookup_sparse(params=embedding_param,sp_ids=sparse_tensor,sp_weights=None)"
   ],
   "metadata": {
    "collapsed": false,
    "pycharm": {
     "name": "#%%\n"
    }
   }
  },
  {
   "cell_type": "code",
   "execution_count": 7,
   "outputs": [
    {
     "name": "stdout",
     "output_type": "stream",
     "text": [
      "SparseTensor(indices=tf.Tensor(\n",
      "[[ 0  0]\n",
      " [ 0  1]\n",
      " [ 1  2]\n",
      " [10  1]], shape=(4, 2), dtype=int64), values=tf.Tensor([1 2 0 0], shape=(4,), dtype=int32), dense_shape=tf.Tensor([3 4], shape=(2,), dtype=int64))\n"
     ]
    }
   ],
   "source": [
    "print(sparse_tensor)\n"
   ],
   "metadata": {
    "collapsed": false,
    "pycharm": {
     "name": "#%%\n"
    }
   }
  },
  {
   "cell_type": "code",
   "execution_count": 12,
   "outputs": [
    {
     "name": "stdout",
     "output_type": "stream",
     "text": [
      "tf.Tensor(\n",
      "[[-0.7208965   0.35720897  1.2735151   0.59348965]\n",
      " [-0.2979291  -0.31340468  0.760616   -0.75253844]\n",
      " [ 1.0593032  -1.076854    0.67688084  0.30121157]], shape=(3, 4), dtype=float32)\n"
     ]
    },
    {
     "data": {
      "text/plain": "<tf.Tensor: shape=(3, 4), dtype=float32, numpy=\narray([[ 1.8206773 , -2.4671125 ,  2.1143777 , -0.15011531],\n       [-0.2979291 , -0.31340468,  0.760616  , -0.75253844],\n       [-0.5958582 , -0.62680936,  1.521232  , -1.5050769 ]],\n      dtype=float32)>"
     },
     "execution_count": 12,
     "metadata": {},
     "output_type": "execute_result"
    }
   ],
   "source": [
    "# sp_weights\n",
    "\n",
    "import tensorflow as tf\n",
    "\n",
    "embedding_param=tf.random.truncated_normal(shape=(3,4))\n",
    "sp_ids=tf.sparse.SparseTensor(indices=[[0, 0],[0,1], [1, 2],[2,1]], values=[1,2,1,1], dense_shape=[3, 4])\n",
    "sp_weights=tf.sparse.SparseTensor(indices=[[0, 0],[0,1], [1, 2],[2,1]], values=[1,2,1,2], dense_shape=[3, 4])\n",
    "print(embedding_param)\n",
    "tf.nn.embedding_lookup_sparse(params=embedding_param,sp_ids=sp_ids,sp_weights=sp_weights,combiner=\"sum\")"
   ],
   "metadata": {
    "collapsed": false,
    "pycharm": {
     "name": "#%%\n"
    }
   }
  },
  {
   "cell_type": "code",
   "execution_count": null,
   "outputs": [],
   "source": [
    "\n"
   ],
   "metadata": {
    "collapsed": false,
    "pycharm": {
     "name": "#%%\n"
    }
   }
  }
 ],
 "metadata": {
  "kernelspec": {
   "display_name": "Python 3",
   "language": "python",
   "name": "python3"
  },
  "language_info": {
   "codemirror_mode": {
    "name": "ipython",
    "version": 2
   },
   "file_extension": ".py",
   "mimetype": "text/x-python",
   "name": "python",
   "nbconvert_exporter": "python",
   "pygments_lexer": "ipython2",
   "version": "2.7.6"
  }
 },
 "nbformat": 4,
 "nbformat_minor": 0
}