{
 "cells": [
  {
   "cell_type": "code",
   "execution_count": 4,
   "metadata": {
    "collapsed": true
   },
   "outputs": [
    {
     "name": "stdout",
     "output_type": "stream",
     "text": [
      "[[2, 1]]\n",
      "{1: '<NA>', 2: 'hello', 3: 'world', 4: 'new'}\n",
      "{'<NA>': 1, 'hello': 2, 'world': 3, 'new': 4}\n"
     ]
    }
   ],
   "source": [
    "import tensorflow as tf\n",
    "demo_token=tf.keras.preprocessing.text.Tokenizer(oov_token=\"<NA>\")# 指定一个词是oov\n",
    "demo_token.fit_on_texts([\"hello world\",\"hello new world\"])\n",
    "print(demo_token.texts_to_sequences([\"hello text\"]))\n",
    "print(demo_token.index_word)\n",
    "print(demo_token.word_index)"
   ]
  },
  {
   "cell_type": "code",
   "execution_count": null,
   "outputs": [],
   "source": [
    "\n"
   ],
   "metadata": {
    "collapsed": false,
    "pycharm": {
     "name": "#%%\n"
    }
   }
  }
 ],
 "metadata": {
  "kernelspec": {
   "display_name": "Python 3",
   "language": "python",
   "name": "python3"
  },
  "language_info": {
   "codemirror_mode": {
    "name": "ipython",
    "version": 2
   },
   "file_extension": ".py",
   "mimetype": "text/x-python",
   "name": "python",
   "nbconvert_exporter": "python",
   "pygments_lexer": "ipython2",
   "version": "2.7.6"
  }
 },
 "nbformat": 4,
 "nbformat_minor": 0
}