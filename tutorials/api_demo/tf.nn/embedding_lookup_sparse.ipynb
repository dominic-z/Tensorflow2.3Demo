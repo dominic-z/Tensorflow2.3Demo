{
 "cells": [
  {
   "cell_type": "code",
   "execution_count": 1,
   "metadata": {
    "collapsed": true
   },
   "outputs": [
    {
     "name": "stdout",
     "output_type": "stream",
     "text": [
      "tf.Tensor(\n",
      "[[-0.28369153  0.22111179  1.905132    0.16127738]\n",
      " [-0.6138425   0.40119487  0.15611733 -0.25702414]\n",
      " [ 1.3703052  -0.33670297  0.2873767  -0.76371247]], shape=(3, 4), dtype=float32)\n"
     ]
    },
    {
     "data": {
      "text/plain": "<tf.Tensor: shape=(11, 4), dtype=float32, numpy=\narray([[ 0.37823135,  0.03224595,  0.22174701, -0.5103683 ],\n       [-0.28369153,  0.22111179,  1.905132  ,  0.16127738],\n       [ 0.        ,  0.        ,  0.        ,  0.        ],\n       [ 0.        ,  0.        ,  0.        ,  0.        ],\n       [ 0.        ,  0.        ,  0.        ,  0.        ],\n       [ 0.        ,  0.        ,  0.        ,  0.        ],\n       [ 0.        ,  0.        ,  0.        ,  0.        ],\n       [ 0.        ,  0.        ,  0.        ,  0.        ],\n       [ 0.        ,  0.        ,  0.        ,  0.        ],\n       [ 0.        ,  0.        ,  0.        ,  0.        ],\n       [-0.28369153,  0.22111179,  1.905132  ,  0.16127738]],\n      dtype=float32)>"
     },
     "execution_count": 1,
     "metadata": {},
     "output_type": "execute_result"
    }
   ],
   "source": [
    "#embedding_lookup_sparse\n",
    "\n",
    "import tensorflow as tf\n",
    "\n",
    "embedding_param=tf.random.truncated_normal(shape=(3,4))\n",
    "\n",
    "sparse_tensor=tf.sparse.SparseTensor(indices=[[0, 0],[0,1], [1, 2],[10,1]], values=[1,2,0,0], dense_shape=[3, 4])\n",
    "print(embedding_param)\n",
    "tf.nn.embedding_lookup_sparse(params=embedding_param,sp_ids=sparse_tensor,sp_weights=None)\n"
   ]
  },
  {
   "cell_type": "code",
   "execution_count": 2,
   "outputs": [
    {
     "data": {
      "text/plain": "<tf.Tensor: shape=(3, 4), dtype=float32, numpy=\narray([[-0.28369153,  0.22111179,  1.905132  ,  0.16127738],\n       [-0.6138425 ,  0.40119487,  0.15611733, -0.25702414],\n       [ 1.3703052 , -0.33670297,  0.2873767 , -0.76371247]],\n      dtype=float32)>"
     },
     "execution_count": 2,
     "metadata": {},
     "output_type": "execute_result"
    }
   ],
   "source": [
    "embedding_param"
   ],
   "metadata": {
    "collapsed": false,
    "pycharm": {
     "name": "#%%\n"
    }
   }
  },
  {
   "cell_type": "code",
   "execution_count": null,
   "outputs": [],
   "source": [
    "\n"
   ],
   "metadata": {
    "collapsed": false,
    "pycharm": {
     "name": "#%%\n"
    }
   }
  }
 ],
 "metadata": {
  "kernelspec": {
   "display_name": "Python 3",
   "language": "python",
   "name": "python3"
  },
  "language_info": {
   "codemirror_mode": {
    "name": "ipython",
    "version": 2
   },
   "file_extension": ".py",
   "mimetype": "text/x-python",
   "name": "python",
   "nbconvert_exporter": "python",
   "pygments_lexer": "ipython2",
   "version": "2.7.6"
  }
 },
 "nbformat": 4,
 "nbformat_minor": 0
}