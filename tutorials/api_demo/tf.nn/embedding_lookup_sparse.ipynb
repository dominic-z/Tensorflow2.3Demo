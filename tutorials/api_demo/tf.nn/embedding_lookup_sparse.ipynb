{
 "cells": [
  {
   "cell_type": "code",
   "execution_count": 4,
   "metadata": {
    "collapsed": true
   },
   "outputs": [
    {
     "name": "stdout",
     "output_type": "stream",
     "text": [
      "tf.Tensor(\n",
      "[[-1.26872     0.3412113   1.0939224  -0.793767  ]\n",
      " [-1.7712302   1.6600988  -1.3424066   1.3043035 ]\n",
      " [ 0.35535678 -0.8327109   1.6589825   0.39188293]], shape=(3, 4), dtype=float32)\n"
     ]
    },
    {
     "data": {
      "text/plain": "<tf.Tensor: shape=(11, 4), dtype=float32, numpy=\narray([[-0.7079367 ,  0.41369393,  0.15828794,  0.8480932 ],\n       [-1.26872   ,  0.3412113 ,  1.0939224 , -0.793767  ],\n       [ 0.        ,  0.        ,  0.        ,  0.        ],\n       [ 0.        ,  0.        ,  0.        ,  0.        ],\n       [ 0.        ,  0.        ,  0.        ,  0.        ],\n       [ 0.        ,  0.        ,  0.        ,  0.        ],\n       [ 0.        ,  0.        ,  0.        ,  0.        ],\n       [ 0.        ,  0.        ,  0.        ,  0.        ],\n       [ 0.        ,  0.        ,  0.        ,  0.        ],\n       [ 0.        ,  0.        ,  0.        ,  0.        ],\n       [-1.26872   ,  0.3412113 ,  1.0939224 , -0.793767  ]],\n      dtype=float32)>"
     },
     "execution_count": 4,
     "metadata": {},
     "output_type": "execute_result"
    }
   ],
   "source": [
    "#embedding_lookup_sparse\n",
    "\n",
    "import tensorflow as tf\n",
    "\n",
    "embedding_param=tf.random.truncated_normal(shape=(3,4))\n",
    "\n",
    "sparse_tensor=tf.sparse.SparseTensor(indices=[[0, 0],[0,1], [1, 2],[10,1]], values=[1,2,0,0], dense_shape=[3, 4])\n",
    "print(embedding_param)\n",
    "tf.nn.embedding_lookup_sparse(params=embedding_param,sp_ids=sparse_tensor,sp_weights=None)\n"
   ]
  },
  {
   "cell_type": "code",
   "execution_count": null,
   "outputs": [],
   "source": [
    "\n"
   ],
   "metadata": {
    "collapsed": false,
    "pycharm": {
     "name": "#%%\n"
    }
   }
  }
 ],
 "metadata": {
  "kernelspec": {
   "display_name": "Python 3",
   "language": "python",
   "name": "python3"
  },
  "language_info": {
   "codemirror_mode": {
    "name": "ipython",
    "version": 2
   },
   "file_extension": ".py",
   "mimetype": "text/x-python",
   "name": "python",
   "nbconvert_exporter": "python",
   "pygments_lexer": "ipython2",
   "version": "2.7.6"
  }
 },
 "nbformat": 4,
 "nbformat_minor": 0
}