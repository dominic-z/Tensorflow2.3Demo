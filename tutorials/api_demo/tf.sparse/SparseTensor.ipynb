{
 "cells": [
  {
   "cell_type": "code",
   "execution_count": 3,
   "metadata": {
    "collapsed": true
   },
   "outputs": [
    {
     "name": "stdout",
     "output_type": "stream",
     "text": [
      "SparseTensor(indices=tf.Tensor(\n",
      "[[0 0]\n",
      " [1 2]], shape=(2, 2), dtype=int64), values=tf.Tensor([1 2], shape=(2,), dtype=int32), dense_shape=tf.Tensor([3 4], shape=(2,), dtype=int64))\n",
      "tf.Tensor(\n",
      "[[1 0 0 0]\n",
      " [0 0 2 0]\n",
      " [0 0 0 0]], shape=(3, 4), dtype=int32)\n"
     ]
    }
   ],
   "source": [
    "# 构造一个sparseTensor\n",
    "import tensorflow as tf\n",
    "sparse_tensor=tf.sparse.SparseTensor(indices=[[0, 0], [1, 2]], values=[1, 2], dense_shape=[3, 4])\n",
    "dense_tensor=tf.constant([[1, 0, 0, 0],\n",
    " [0, 0, 2, 0],\n",
    " [0, 0, 0, 0]])\n",
    "\n",
    "print(sparse_tensor)\n",
    "print(dense_tensor)"
   ]
  },
  {
   "cell_type": "code",
   "execution_count": 5,
   "outputs": [
    {
     "name": "stdout",
     "output_type": "stream",
     "text": [
      "tf.Tensor(\n",
      "[[0 0]\n",
      " [1 2]], shape=(2, 2), dtype=int64)\n",
      "tf.Tensor([1 2], shape=(2,), dtype=int32)\n",
      "SparseTensor(indices=tf.Tensor(\n",
      "[[0 0]\n",
      " [1 2]], shape=(2, 2), dtype=int64), values=tf.Tensor([1 2], shape=(2,), dtype=int32), dense_shape=tf.Tensor([3 4], shape=(2,), dtype=int64))\n",
      "tf.Tensor(\n",
      "[[1 0 0 0]\n",
      " [0 0 2 0]\n",
      " [0 0 0 0]], shape=(3, 4), dtype=int32)\n"
     ]
    }
   ],
   "source": [
    "import tensorflow as tf\n",
    "# sparse和tensor互转\n",
    "\n",
    "dense_tensor=tf.constant([[1, 0, 0, 0],\n",
    " [0, 0, 2, 0],\n",
    " [0, 0, 0, 0]])\n",
    "arr_idx = tf.where(tf.not_equal(dense_tensor, 0))\n",
    "# gather_nd这个操作就是根据arr_idx的指示，从dense_tensor提取值，最终的结果shape由arr_idx决定\n",
    "# 而arr_idx的0轴的每个元素都是一个坐标，因此arr_values就是一个一维度向量\n",
    "arr_values=tf.gather_nd(dense_tensor, arr_idx)\n",
    "sparse_tensor = tf.SparseTensor(arr_idx,arr_values,dense_shape=dense_tensor.shape)\n",
    "\n",
    "print(arr_idx)\n",
    "print(arr_values)\n",
    "print(sparse_tensor)\n",
    "print(tf.sparse.to_dense(sparse_tensor))"
   ],
   "metadata": {
    "collapsed": false,
    "pycharm": {
     "name": "#%%\n"
    }
   }
  },
  {
   "cell_type": "code",
   "execution_count": 14,
   "outputs": [
    {
     "name": "stdout",
     "output_type": "stream",
     "text": [
      "tf.Tensor(\n",
      "[[0 1 1 0 1 1 1 1 1 1]\n",
      " [1 1 1 1 1 0 1 0 1 0]\n",
      " [1 0 0 1 0 1 1 1 1 0]\n",
      " [0 0 0 0 0 1 1 0 0 1]\n",
      " [1 0 1 0 0 0 0 0 1 1]\n",
      " [0 1 0 0 1 0 0 1 0 1]\n",
      " [0 1 0 0 0 0 1 0 0 1]\n",
      " [0 1 1 0 0 0 1 1 0 0]\n",
      " [0 1 1 0 0 1 0 1 0 0]\n",
      " [0 1 0 0 1 1 0 0 1 1]], shape=(10, 10), dtype=int32)\n",
      "SparseTensor(indices=tf.Tensor(\n",
      "[[0 0]\n",
      " [1 2]], shape=(2, 2), dtype=int64), values=tf.Tensor([1 2], shape=(2,), dtype=int32), dense_shape=tf.Tensor([10 10], shape=(2,), dtype=int64))\n"
     ]
    }
   ],
   "source": [
    "# sparseTensor与dataset\n",
    "# dataset也可以持有sparseTensor哦\n",
    "import tensorflow as tf\n",
    "import numpy as np\n",
    "ds=tf.data.Dataset.from_tensor_slices([np.reshape(np.random.choice([0,1],size=100),newshape=(10,10))])\n",
    "\n",
    "def dense_to_sparse(dense_tensor):\n",
    "    idx = tf.where(tf.not_equal(dense_tensor, 0))\n",
    "    values=tf.gather_nd(dense_tensor, arr_idx)\n",
    "    return tf.SparseTensor(arr_idx,arr_values,dense_shape=dense_tensor.shape)\n",
    "\n",
    "for sample in ds:\n",
    "    print(sample)\n",
    "\n",
    "sparse_ds=ds.map(dense_to_sparse)\n",
    "for sample in sparse_ds:\n",
    "    print(sample)"
   ],
   "metadata": {
    "collapsed": false,
    "pycharm": {
     "name": "#%%\n"
    }
   }
  },
  {
   "cell_type": "code",
   "execution_count": 10,
   "outputs": [
    {
     "data": {
      "text/plain": "array([1, 0, 0, 1, 1, 1, 0, 1, 1, 0, 1, 0, 0, 1, 1, 1, 1, 0, 0, 0, 0, 0,\n       0, 1, 0, 0, 0, 1, 0, 1, 1, 0, 0, 1, 0, 1, 1, 1, 1, 0, 1, 0, 0, 0,\n       0, 0, 1, 0, 1, 1, 1, 0, 0, 1, 1, 1, 1, 0, 1, 0, 1, 0, 1, 0, 0, 0,\n       1, 1, 1, 1, 0, 1, 1, 1, 1, 0, 1, 0, 1, 0, 0, 1, 1, 1, 1, 0, 1, 1,\n       1, 1, 1, 1, 1, 1, 1, 1, 1, 0, 1, 0])"
     },
     "execution_count": 10,
     "metadata": {},
     "output_type": "execute_result"
    }
   ],
   "source": [
    "np.random.choice([0,1],size=100)"
   ],
   "metadata": {
    "collapsed": false,
    "pycharm": {
     "name": "#%%\n"
    }
   }
  },
  {
   "cell_type": "code",
   "execution_count": null,
   "outputs": [],
   "source": [
    "\n"
   ],
   "metadata": {
    "collapsed": false,
    "pycharm": {
     "name": "#%%\n"
    }
   }
  }
 ],
 "metadata": {
  "kernelspec": {
   "display_name": "Python 3",
   "language": "python",
   "name": "python3"
  },
  "language_info": {
   "codemirror_mode": {
    "name": "ipython",
    "version": 2
   },
   "file_extension": ".py",
   "mimetype": "text/x-python",
   "name": "python",
   "nbconvert_exporter": "python",
   "pygments_lexer": "ipython2",
   "version": "2.7.6"
  }
 },
 "nbformat": 4,
 "nbformat_minor": 0
}